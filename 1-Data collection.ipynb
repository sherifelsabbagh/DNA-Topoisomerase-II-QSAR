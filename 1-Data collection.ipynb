{
 "cells": [
  {
   "cell_type": "code",
   "execution_count": 38,
   "id": "7ac2eed4",
   "metadata": {},
   "outputs": [],
   "source": [
    "import pandas as pd\n",
    "import numpy as np\n",
    "import matplotlib.pyplot as plt\n",
    "import seaborn as sns\n",
    "from rdkit import Chem\n",
    "from rdkit.Chem import SaltRemover"
   ]
  },
  {
   "cell_type": "markdown",
   "id": "b9a432e5",
   "metadata": {},
   "source": [
    "**Activity dataset for DNA Topoisomerase II alpha was retrieved from ChEMBL.**"
   ]
  },
  {
   "cell_type": "code",
   "execution_count": 2,
   "id": "f50e15c1",
   "metadata": {},
   "outputs": [],
   "source": [
    "df = pd.read_csv(\"dataset_activity.csv\",sep=\";\")"
   ]
  },
  {
   "cell_type": "code",
   "execution_count": 3,
   "id": "125f08ab",
   "metadata": {},
   "outputs": [
    {
     "data": {
      "text/html": [
       "<div>\n",
       "<style scoped>\n",
       "    .dataframe tbody tr th:only-of-type {\n",
       "        vertical-align: middle;\n",
       "    }\n",
       "\n",
       "    .dataframe tbody tr th {\n",
       "        vertical-align: top;\n",
       "    }\n",
       "\n",
       "    .dataframe thead th {\n",
       "        text-align: right;\n",
       "    }\n",
       "</style>\n",
       "<table border=\"1\" class=\"dataframe\">\n",
       "  <thead>\n",
       "    <tr style=\"text-align: right;\">\n",
       "      <th></th>\n",
       "      <th>Molecule ChEMBL ID</th>\n",
       "      <th>Molecule Name</th>\n",
       "      <th>Molecule Max Phase</th>\n",
       "      <th>Molecular Weight</th>\n",
       "      <th>#RO5 Violations</th>\n",
       "      <th>AlogP</th>\n",
       "      <th>Compound Key</th>\n",
       "      <th>Smiles</th>\n",
       "      <th>Standard Type</th>\n",
       "      <th>Standard Relation</th>\n",
       "      <th>...</th>\n",
       "      <th>Target Name</th>\n",
       "      <th>Target Organism</th>\n",
       "      <th>Target Type</th>\n",
       "      <th>Document ChEMBL ID</th>\n",
       "      <th>Source ID</th>\n",
       "      <th>Source Description</th>\n",
       "      <th>Document Journal</th>\n",
       "      <th>Document Year</th>\n",
       "      <th>Cell ChEMBL ID</th>\n",
       "      <th>Properties</th>\n",
       "    </tr>\n",
       "  </thead>\n",
       "  <tbody>\n",
       "    <tr>\n",
       "      <th>0</th>\n",
       "      <td>CHEMBL575801</td>\n",
       "      <td>NaN</td>\n",
       "      <td>0</td>\n",
       "      <td>819.79</td>\n",
       "      <td>2</td>\n",
       "      <td>6.47</td>\n",
       "      <td>4</td>\n",
       "      <td>CN(CCNC(=O)CCCCC(=O)NCCN(C)CCn1nc2c3c(cccc31)C...</td>\n",
       "      <td>IC50</td>\n",
       "      <td>'='</td>\n",
       "      <td>...</td>\n",
       "      <td>DNA topoisomerase II alpha</td>\n",
       "      <td>Homo sapiens</td>\n",
       "      <td>SINGLE PROTEIN</td>\n",
       "      <td>CHEMBL1154053</td>\n",
       "      <td>1</td>\n",
       "      <td>Scientific Literature</td>\n",
       "      <td>Bioorg. Med. Chem.</td>\n",
       "      <td>2009.0</td>\n",
       "      <td>None</td>\n",
       "      <td>NaN</td>\n",
       "    </tr>\n",
       "    <tr>\n",
       "      <th>1</th>\n",
       "      <td>CHEMBL573581</td>\n",
       "      <td>NaN</td>\n",
       "      <td>0</td>\n",
       "      <td>380.84</td>\n",
       "      <td>0</td>\n",
       "      <td>4.14</td>\n",
       "      <td>8</td>\n",
       "      <td>CN(CCN=[N+]=[N-])CCn1nc2c3c(cccc31)C(=O)c1c(Cl...</td>\n",
       "      <td>IC50</td>\n",
       "      <td>'='</td>\n",
       "      <td>...</td>\n",
       "      <td>DNA topoisomerase II alpha</td>\n",
       "      <td>Homo sapiens</td>\n",
       "      <td>SINGLE PROTEIN</td>\n",
       "      <td>CHEMBL1154053</td>\n",
       "      <td>1</td>\n",
       "      <td>Scientific Literature</td>\n",
       "      <td>Bioorg. Med. Chem.</td>\n",
       "      <td>2009.0</td>\n",
       "      <td>None</td>\n",
       "      <td>NaN</td>\n",
       "    </tr>\n",
       "    <tr>\n",
       "      <th>2</th>\n",
       "      <td>CHEMBL4750575</td>\n",
       "      <td>NaN</td>\n",
       "      <td>0</td>\n",
       "      <td>458.52</td>\n",
       "      <td>1</td>\n",
       "      <td>5.33</td>\n",
       "      <td>E30</td>\n",
       "      <td>COc1ccc2[nH]c3c([N+](=O)[O-])ccc(Nc4ccc(CN5CCC...</td>\n",
       "      <td>Inhibition</td>\n",
       "      <td>NaN</td>\n",
       "      <td>...</td>\n",
       "      <td>DNA topoisomerase II alpha</td>\n",
       "      <td>Homo sapiens</td>\n",
       "      <td>SINGLE PROTEIN</td>\n",
       "      <td>CHEMBL4673288</td>\n",
       "      <td>1</td>\n",
       "      <td>Scientific Literature</td>\n",
       "      <td>Bioorg Med Chem</td>\n",
       "      <td>2021.0</td>\n",
       "      <td>None</td>\n",
       "      <td>Dose = 200.0 microM | TIME = 0.5 hr</td>\n",
       "    </tr>\n",
       "    <tr>\n",
       "      <th>3</th>\n",
       "      <td>CHEMBL4744119</td>\n",
       "      <td>NaN</td>\n",
       "      <td>0</td>\n",
       "      <td>407.38</td>\n",
       "      <td>0</td>\n",
       "      <td>4.06</td>\n",
       "      <td>E22</td>\n",
       "      <td>COc1cc(Nc2ccc([N+](=O)[O-])c3[nH]c4ccc(O)cc4c(...</td>\n",
       "      <td>Inhibition</td>\n",
       "      <td>NaN</td>\n",
       "      <td>...</td>\n",
       "      <td>DNA topoisomerase II alpha</td>\n",
       "      <td>Homo sapiens</td>\n",
       "      <td>SINGLE PROTEIN</td>\n",
       "      <td>CHEMBL4673288</td>\n",
       "      <td>1</td>\n",
       "      <td>Scientific Literature</td>\n",
       "      <td>Bioorg Med Chem</td>\n",
       "      <td>2021.0</td>\n",
       "      <td>None</td>\n",
       "      <td>Dose = 200.0 microM | TIME = 0.5 hr</td>\n",
       "    </tr>\n",
       "    <tr>\n",
       "      <th>4</th>\n",
       "      <td>CHEMBL4760194</td>\n",
       "      <td>NaN</td>\n",
       "      <td>0</td>\n",
       "      <td>407.38</td>\n",
       "      <td>0</td>\n",
       "      <td>4.06</td>\n",
       "      <td>E23</td>\n",
       "      <td>COc1ccc(Nc2ccc([N+](=O)[O-])c3[nH]c4ccc(O)cc4c...</td>\n",
       "      <td>Inhibition</td>\n",
       "      <td>NaN</td>\n",
       "      <td>...</td>\n",
       "      <td>DNA topoisomerase II alpha</td>\n",
       "      <td>Homo sapiens</td>\n",
       "      <td>SINGLE PROTEIN</td>\n",
       "      <td>CHEMBL4673288</td>\n",
       "      <td>1</td>\n",
       "      <td>Scientific Literature</td>\n",
       "      <td>Bioorg Med Chem</td>\n",
       "      <td>2021.0</td>\n",
       "      <td>None</td>\n",
       "      <td>Dose = 200.0 microM | TIME = 0.5 hr</td>\n",
       "    </tr>\n",
       "  </tbody>\n",
       "</table>\n",
       "<p>5 rows × 45 columns</p>\n",
       "</div>"
      ],
      "text/plain": [
       "  Molecule ChEMBL ID Molecule Name  Molecule Max Phase Molecular Weight  \\\n",
       "0       CHEMBL575801           NaN                   0           819.79   \n",
       "1       CHEMBL573581           NaN                   0           380.84   \n",
       "2      CHEMBL4750575           NaN                   0           458.52   \n",
       "3      CHEMBL4744119           NaN                   0           407.38   \n",
       "4      CHEMBL4760194           NaN                   0           407.38   \n",
       "\n",
       "  #RO5 Violations AlogP Compound Key  \\\n",
       "0               2  6.47            4   \n",
       "1               0  4.14            8   \n",
       "2               1  5.33          E30   \n",
       "3               0  4.06          E22   \n",
       "4               0  4.06          E23   \n",
       "\n",
       "                                              Smiles Standard Type  \\\n",
       "0  CN(CCNC(=O)CCCCC(=O)NCCN(C)CCn1nc2c3c(cccc31)C...          IC50   \n",
       "1  CN(CCN=[N+]=[N-])CCn1nc2c3c(cccc31)C(=O)c1c(Cl...          IC50   \n",
       "2  COc1ccc2[nH]c3c([N+](=O)[O-])ccc(Nc4ccc(CN5CCC...    Inhibition   \n",
       "3  COc1cc(Nc2ccc([N+](=O)[O-])c3[nH]c4ccc(O)cc4c(...    Inhibition   \n",
       "4  COc1ccc(Nc2ccc([N+](=O)[O-])c3[nH]c4ccc(O)cc4c...    Inhibition   \n",
       "\n",
       "  Standard Relation  ...                 Target Name Target Organism  \\\n",
       "0               '='  ...  DNA topoisomerase II alpha    Homo sapiens   \n",
       "1               '='  ...  DNA topoisomerase II alpha    Homo sapiens   \n",
       "2               NaN  ...  DNA topoisomerase II alpha    Homo sapiens   \n",
       "3               NaN  ...  DNA topoisomerase II alpha    Homo sapiens   \n",
       "4               NaN  ...  DNA topoisomerase II alpha    Homo sapiens   \n",
       "\n",
       "      Target Type Document ChEMBL ID Source ID     Source Description  \\\n",
       "0  SINGLE PROTEIN      CHEMBL1154053         1  Scientific Literature   \n",
       "1  SINGLE PROTEIN      CHEMBL1154053         1  Scientific Literature   \n",
       "2  SINGLE PROTEIN      CHEMBL4673288         1  Scientific Literature   \n",
       "3  SINGLE PROTEIN      CHEMBL4673288         1  Scientific Literature   \n",
       "4  SINGLE PROTEIN      CHEMBL4673288         1  Scientific Literature   \n",
       "\n",
       "     Document Journal Document Year Cell ChEMBL ID  \\\n",
       "0  Bioorg. Med. Chem.        2009.0           None   \n",
       "1  Bioorg. Med. Chem.        2009.0           None   \n",
       "2     Bioorg Med Chem        2021.0           None   \n",
       "3     Bioorg Med Chem        2021.0           None   \n",
       "4     Bioorg Med Chem        2021.0           None   \n",
       "\n",
       "                            Properties  \n",
       "0                                  NaN  \n",
       "1                                  NaN  \n",
       "2  Dose = 200.0 microM | TIME = 0.5 hr  \n",
       "3  Dose = 200.0 microM | TIME = 0.5 hr  \n",
       "4  Dose = 200.0 microM | TIME = 0.5 hr  \n",
       "\n",
       "[5 rows x 45 columns]"
      ]
     },
     "execution_count": 3,
     "metadata": {},
     "output_type": "execute_result"
    }
   ],
   "source": [
    "df.head()"
   ]
  },
  {
   "cell_type": "code",
   "execution_count": 4,
   "id": "65081827",
   "metadata": {},
   "outputs": [
    {
     "data": {
      "text/plain": [
       "(5972, 45)"
      ]
     },
     "execution_count": 4,
     "metadata": {},
     "output_type": "execute_result"
    }
   ],
   "source": [
    "df.shape"
   ]
  },
  {
   "cell_type": "code",
   "execution_count": 5,
   "id": "82ea287a",
   "metadata": {},
   "outputs": [
    {
     "name": "stdout",
     "output_type": "stream",
     "text": [
      "<class 'pandas.core.frame.DataFrame'>\n",
      "RangeIndex: 5972 entries, 0 to 5971\n",
      "Data columns (total 45 columns):\n",
      " #   Column                      Non-Null Count  Dtype  \n",
      "---  ------                      --------------  -----  \n",
      " 0   Molecule ChEMBL ID          5972 non-null   object \n",
      " 1   Molecule Name               859 non-null    object \n",
      " 2   Molecule Max Phase          5972 non-null   int64  \n",
      " 3   Molecular Weight            5972 non-null   object \n",
      " 4   #RO5 Violations             5972 non-null   object \n",
      " 5   AlogP                       5972 non-null   object \n",
      " 6   Compound Key                5972 non-null   object \n",
      " 7   Smiles                      5971 non-null   object \n",
      " 8   Standard Type               5972 non-null   object \n",
      " 9   Standard Relation           3544 non-null   object \n",
      " 10  Standard Value              3544 non-null   float64\n",
      " 11  Standard Units              5032 non-null   object \n",
      " 12  pChEMBL Value               364 non-null    float64\n",
      " 13  Data Validity Comment       320 non-null    object \n",
      " 14  Comment                     2599 non-null   object \n",
      " 15  Uo Units                    3056 non-null   object \n",
      " 16  Ligand Efficiency BEI       360 non-null    float64\n",
      " 17  Ligand Efficiency LE        360 non-null    object \n",
      " 18  Ligand Efficiency LLE       360 non-null    object \n",
      " 19  Ligand Efficiency SEI       360 non-null    object \n",
      " 20  Potential Duplicate         5972 non-null   bool   \n",
      " 21  Assay ChEMBL ID             5972 non-null   object \n",
      " 22  Assay Description           5972 non-null   object \n",
      " 23  Assay Type                  5972 non-null   object \n",
      " 24  BAO Format ID               5972 non-null   object \n",
      " 25  BAO Label                   5972 non-null   object \n",
      " 26  Assay Organism              5972 non-null   object \n",
      " 27  Assay Tissue ChEMBL ID      5972 non-null   object \n",
      " 28  Assay Tissue Name           5972 non-null   object \n",
      " 29  Assay Cell Type             5972 non-null   object \n",
      " 30  Assay Subcellular Fraction  5972 non-null   object \n",
      " 31  Assay Parameters            197 non-null    object \n",
      " 32  Assay Variant Accession     0 non-null      float64\n",
      " 33  Assay Variant Mutation      0 non-null      float64\n",
      " 34  Target ChEMBL ID            5972 non-null   object \n",
      " 35  Target Name                 5972 non-null   object \n",
      " 36  Target Organism             5972 non-null   object \n",
      " 37  Target Type                 5972 non-null   object \n",
      " 38  Document ChEMBL ID          5972 non-null   object \n",
      " 39  Source ID                   5972 non-null   int64  \n",
      " 40  Source Description          5972 non-null   object \n",
      " 41  Document Journal            5913 non-null   object \n",
      " 42  Document Year               5913 non-null   float64\n",
      " 43  Cell ChEMBL ID              5972 non-null   object \n",
      " 44  Properties                  181 non-null    object \n",
      "dtypes: bool(1), float64(6), int64(2), object(36)\n",
      "memory usage: 2.0+ MB\n"
     ]
    }
   ],
   "source": [
    "df.info()"
   ]
  },
  {
   "cell_type": "code",
   "execution_count": 6,
   "id": "adf1c69b",
   "metadata": {},
   "outputs": [
    {
     "data": {
      "text/plain": [
       "Index(['Molecule ChEMBL ID', 'Molecule Name', 'Molecule Max Phase',\n",
       "       'Molecular Weight', '#RO5 Violations', 'AlogP', 'Compound Key',\n",
       "       'Smiles', 'Standard Type', 'Standard Relation', 'Standard Value',\n",
       "       'Standard Units', 'pChEMBL Value', 'Data Validity Comment', 'Comment',\n",
       "       'Uo Units', 'Ligand Efficiency BEI', 'Ligand Efficiency LE',\n",
       "       'Ligand Efficiency LLE', 'Ligand Efficiency SEI', 'Potential Duplicate',\n",
       "       'Assay ChEMBL ID', 'Assay Description', 'Assay Type', 'BAO Format ID',\n",
       "       'BAO Label', 'Assay Organism', 'Assay Tissue ChEMBL ID',\n",
       "       'Assay Tissue Name', 'Assay Cell Type', 'Assay Subcellular Fraction',\n",
       "       'Assay Parameters', 'Assay Variant Accession', 'Assay Variant Mutation',\n",
       "       'Target ChEMBL ID', 'Target Name', 'Target Organism', 'Target Type',\n",
       "       'Document ChEMBL ID', 'Source ID', 'Source Description',\n",
       "       'Document Journal', 'Document Year', 'Cell ChEMBL ID', 'Properties'],\n",
       "      dtype='object')"
      ]
     },
     "execution_count": 6,
     "metadata": {},
     "output_type": "execute_result"
    }
   ],
   "source": [
    "df.columns"
   ]
  },
  {
   "cell_type": "code",
   "execution_count": 7,
   "id": "4fd2ec55",
   "metadata": {},
   "outputs": [],
   "source": [
    "df = df[['Molecule ChEMBL ID','#RO5 Violations','Smiles', 'Standard Type', 'Standard Relation', 'Standard Value',\n",
    "       'Standard Units','Comment']]"
   ]
  },
  {
   "cell_type": "code",
   "execution_count": 8,
   "id": "35619731",
   "metadata": {},
   "outputs": [
    {
     "data": {
      "text/html": [
       "<div>\n",
       "<style scoped>\n",
       "    .dataframe tbody tr th:only-of-type {\n",
       "        vertical-align: middle;\n",
       "    }\n",
       "\n",
       "    .dataframe tbody tr th {\n",
       "        vertical-align: top;\n",
       "    }\n",
       "\n",
       "    .dataframe thead th {\n",
       "        text-align: right;\n",
       "    }\n",
       "</style>\n",
       "<table border=\"1\" class=\"dataframe\">\n",
       "  <thead>\n",
       "    <tr style=\"text-align: right;\">\n",
       "      <th></th>\n",
       "      <th>Molecule ChEMBL ID</th>\n",
       "      <th>#RO5 Violations</th>\n",
       "      <th>Smiles</th>\n",
       "      <th>Standard Type</th>\n",
       "      <th>Standard Relation</th>\n",
       "      <th>Standard Value</th>\n",
       "      <th>Standard Units</th>\n",
       "      <th>Comment</th>\n",
       "    </tr>\n",
       "  </thead>\n",
       "  <tbody>\n",
       "    <tr>\n",
       "      <th>0</th>\n",
       "      <td>CHEMBL575801</td>\n",
       "      <td>2</td>\n",
       "      <td>CN(CCNC(=O)CCCCC(=O)NCCN(C)CCn1nc2c3c(cccc31)C...</td>\n",
       "      <td>IC50</td>\n",
       "      <td>'='</td>\n",
       "      <td>48000.0</td>\n",
       "      <td>nM</td>\n",
       "      <td>NaN</td>\n",
       "    </tr>\n",
       "    <tr>\n",
       "      <th>1</th>\n",
       "      <td>CHEMBL573581</td>\n",
       "      <td>0</td>\n",
       "      <td>CN(CCN=[N+]=[N-])CCn1nc2c3c(cccc31)C(=O)c1c(Cl...</td>\n",
       "      <td>IC50</td>\n",
       "      <td>'='</td>\n",
       "      <td>25000.0</td>\n",
       "      <td>nM</td>\n",
       "      <td>NaN</td>\n",
       "    </tr>\n",
       "    <tr>\n",
       "      <th>2</th>\n",
       "      <td>CHEMBL4750575</td>\n",
       "      <td>1</td>\n",
       "      <td>COc1ccc2[nH]c3c([N+](=O)[O-])ccc(Nc4ccc(CN5CCC...</td>\n",
       "      <td>Inhibition</td>\n",
       "      <td>NaN</td>\n",
       "      <td>NaN</td>\n",
       "      <td>%</td>\n",
       "      <td>Active</td>\n",
       "    </tr>\n",
       "    <tr>\n",
       "      <th>3</th>\n",
       "      <td>CHEMBL4744119</td>\n",
       "      <td>0</td>\n",
       "      <td>COc1cc(Nc2ccc([N+](=O)[O-])c3[nH]c4ccc(O)cc4c(...</td>\n",
       "      <td>Inhibition</td>\n",
       "      <td>NaN</td>\n",
       "      <td>NaN</td>\n",
       "      <td>%</td>\n",
       "      <td>Active</td>\n",
       "    </tr>\n",
       "    <tr>\n",
       "      <th>4</th>\n",
       "      <td>CHEMBL4760194</td>\n",
       "      <td>0</td>\n",
       "      <td>COc1ccc(Nc2ccc([N+](=O)[O-])c3[nH]c4ccc(O)cc4c...</td>\n",
       "      <td>Inhibition</td>\n",
       "      <td>NaN</td>\n",
       "      <td>NaN</td>\n",
       "      <td>%</td>\n",
       "      <td>Not Active</td>\n",
       "    </tr>\n",
       "  </tbody>\n",
       "</table>\n",
       "</div>"
      ],
      "text/plain": [
       "  Molecule ChEMBL ID #RO5 Violations  \\\n",
       "0       CHEMBL575801               2   \n",
       "1       CHEMBL573581               0   \n",
       "2      CHEMBL4750575               1   \n",
       "3      CHEMBL4744119               0   \n",
       "4      CHEMBL4760194               0   \n",
       "\n",
       "                                              Smiles Standard Type  \\\n",
       "0  CN(CCNC(=O)CCCCC(=O)NCCN(C)CCn1nc2c3c(cccc31)C...          IC50   \n",
       "1  CN(CCN=[N+]=[N-])CCn1nc2c3c(cccc31)C(=O)c1c(Cl...          IC50   \n",
       "2  COc1ccc2[nH]c3c([N+](=O)[O-])ccc(Nc4ccc(CN5CCC...    Inhibition   \n",
       "3  COc1cc(Nc2ccc([N+](=O)[O-])c3[nH]c4ccc(O)cc4c(...    Inhibition   \n",
       "4  COc1ccc(Nc2ccc([N+](=O)[O-])c3[nH]c4ccc(O)cc4c...    Inhibition   \n",
       "\n",
       "  Standard Relation  Standard Value Standard Units     Comment  \n",
       "0               '='         48000.0             nM         NaN  \n",
       "1               '='         25000.0             nM         NaN  \n",
       "2               NaN             NaN              %      Active  \n",
       "3               NaN             NaN              %      Active  \n",
       "4               NaN             NaN              %  Not Active  "
      ]
     },
     "execution_count": 8,
     "metadata": {},
     "output_type": "execute_result"
    }
   ],
   "source": [
    "df.head()"
   ]
  },
  {
   "cell_type": "code",
   "execution_count": 9,
   "id": "b9f74927",
   "metadata": {},
   "outputs": [
    {
     "data": {
      "text/plain": [
       "(5972, 8)"
      ]
     },
     "execution_count": 9,
     "metadata": {},
     "output_type": "execute_result"
    }
   ],
   "source": [
    "df.shape"
   ]
  },
  {
   "cell_type": "code",
   "execution_count": 10,
   "id": "1bb11716",
   "metadata": {},
   "outputs": [
    {
     "name": "stdout",
     "output_type": "stream",
     "text": [
      "<class 'pandas.core.frame.DataFrame'>\n",
      "RangeIndex: 5972 entries, 0 to 5971\n",
      "Data columns (total 8 columns):\n",
      " #   Column              Non-Null Count  Dtype  \n",
      "---  ------              --------------  -----  \n",
      " 0   Molecule ChEMBL ID  5972 non-null   object \n",
      " 1   #RO5 Violations     5972 non-null   object \n",
      " 2   Smiles              5971 non-null   object \n",
      " 3   Standard Type       5972 non-null   object \n",
      " 4   Standard Relation   3544 non-null   object \n",
      " 5   Standard Value      3544 non-null   float64\n",
      " 6   Standard Units      5032 non-null   object \n",
      " 7   Comment             2599 non-null   object \n",
      "dtypes: float64(1), object(7)\n",
      "memory usage: 373.4+ KB\n"
     ]
    }
   ],
   "source": [
    "df.info()"
   ]
  },
  {
   "cell_type": "code",
   "execution_count": 11,
   "id": "fcb36329",
   "metadata": {},
   "outputs": [
    {
     "data": {
      "text/plain": [
       "<AxesSubplot:xlabel='count', ylabel='Standard Type'>"
      ]
     },
     "execution_count": 11,
     "metadata": {},
     "output_type": "execute_result"
    },
    {
     "data": {
      "image/png": "[encoded data removed]",
      "text/plain": [
       "<Figure size 432x288 with 1 Axes>"
      ]
     },
     "metadata": {
      "needs_background": "light"
     },
     "output_type": "display_data"
    }
   ],
   "source": [
    "sns.countplot(y=df[\"Standard Type\"])"
   ]
  },
  {
   "cell_type": "code",
   "execution_count": 12,
   "id": "3a90e6fc",
   "metadata": {},
   "outputs": [
    {
     "data": {
      "text/plain": [
       "Active                   1176\n",
       "Not Active                696\n",
       "Not Determined            399\n",
       "Inactive                  195\n",
       "Dose-dependent effect     118\n",
       "ND(Insoluble)               6\n",
       "Not Evaluated               5\n",
       "Uncertain                   2\n",
       "Non-Toxic                   1\n",
       "Toxic                       1\n",
       "Name: Comment, dtype: int64"
      ]
     },
     "execution_count": 12,
     "metadata": {},
     "output_type": "execute_result"
    }
   ],
   "source": [
    "df[\"Comment\"].value_counts()"
   ]
  },
  {
   "cell_type": "markdown",
   "id": "2efd607f",
   "metadata": {},
   "source": [
    "**In the paper, compounds were classified as active and inactive based on evidence from literature. So we will depend on \"Comment\" column and keep comppounds whiche are active and inactive.** "
   ]
  },
  {
   "cell_type": "code",
   "execution_count": 13,
   "id": "8935c565",
   "metadata": {},
   "outputs": [],
   "source": [
    "df = df[(df[\"Comment\"] == \"Active\") | (df[\"Comment\"] == \"Not Active\") | (df[\"Comment\"] == \"Inactive\") ]"
   ]
  },
  {
   "cell_type": "code",
   "execution_count": 14,
   "id": "fe564dec",
   "metadata": {},
   "outputs": [
    {
     "data": {
      "text/html": [
       "<div>\n",
       "<style scoped>\n",
       "    .dataframe tbody tr th:only-of-type {\n",
       "        vertical-align: middle;\n",
       "    }\n",
       "\n",
       "    .dataframe tbody tr th {\n",
       "        vertical-align: top;\n",
       "    }\n",
       "\n",
       "    .dataframe thead th {\n",
       "        text-align: right;\n",
       "    }\n",
       "</style>\n",
       "<table border=\"1\" class=\"dataframe\">\n",
       "  <thead>\n",
       "    <tr style=\"text-align: right;\">\n",
       "      <th></th>\n",
       "      <th>Molecule ChEMBL ID</th>\n",
       "      <th>#RO5 Violations</th>\n",
       "      <th>Smiles</th>\n",
       "      <th>Standard Type</th>\n",
       "      <th>Standard Relation</th>\n",
       "      <th>Standard Value</th>\n",
       "      <th>Standard Units</th>\n",
       "      <th>Comment</th>\n",
       "    </tr>\n",
       "  </thead>\n",
       "  <tbody>\n",
       "    <tr>\n",
       "      <th>2</th>\n",
       "      <td>CHEMBL4750575</td>\n",
       "      <td>1</td>\n",
       "      <td>COc1ccc2[nH]c3c([N+](=O)[O-])ccc(Nc4ccc(CN5CCC...</td>\n",
       "      <td>Inhibition</td>\n",
       "      <td>NaN</td>\n",
       "      <td>NaN</td>\n",
       "      <td>%</td>\n",
       "      <td>Active</td>\n",
       "    </tr>\n",
       "    <tr>\n",
       "      <th>3</th>\n",
       "      <td>CHEMBL4744119</td>\n",
       "      <td>0</td>\n",
       "      <td>COc1cc(Nc2ccc([N+](=O)[O-])c3[nH]c4ccc(O)cc4c(...</td>\n",
       "      <td>Inhibition</td>\n",
       "      <td>NaN</td>\n",
       "      <td>NaN</td>\n",
       "      <td>%</td>\n",
       "      <td>Active</td>\n",
       "    </tr>\n",
       "    <tr>\n",
       "      <th>4</th>\n",
       "      <td>CHEMBL4760194</td>\n",
       "      <td>0</td>\n",
       "      <td>COc1ccc(Nc2ccc([N+](=O)[O-])c3[nH]c4ccc(O)cc4c...</td>\n",
       "      <td>Inhibition</td>\n",
       "      <td>NaN</td>\n",
       "      <td>NaN</td>\n",
       "      <td>%</td>\n",
       "      <td>Not Active</td>\n",
       "    </tr>\n",
       "    <tr>\n",
       "      <th>8</th>\n",
       "      <td>CHEMBL3427565</td>\n",
       "      <td>1</td>\n",
       "      <td>Oc1ccc(-c2ccc(-c3ccc(O)c(O)c3)c(O)c2O)cc1O</td>\n",
       "      <td>Inhibition</td>\n",
       "      <td>NaN</td>\n",
       "      <td>NaN</td>\n",
       "      <td>%</td>\n",
       "      <td>Active</td>\n",
       "    </tr>\n",
       "    <tr>\n",
       "      <th>14</th>\n",
       "      <td>CHEMBL307856</td>\n",
       "      <td>0</td>\n",
       "      <td>COc1cc(-c2cc(=O)c3ccccc3o2)cc(OC)c1OC</td>\n",
       "      <td>Inhibition</td>\n",
       "      <td>NaN</td>\n",
       "      <td>NaN</td>\n",
       "      <td>%</td>\n",
       "      <td>Active</td>\n",
       "    </tr>\n",
       "  </tbody>\n",
       "</table>\n",
       "</div>"
      ],
      "text/plain": [
       "   Molecule ChEMBL ID #RO5 Violations  \\\n",
       "2       CHEMBL4750575               1   \n",
       "3       CHEMBL4744119               0   \n",
       "4       CHEMBL4760194               0   \n",
       "8       CHEMBL3427565               1   \n",
       "14       CHEMBL307856               0   \n",
       "\n",
       "                                               Smiles Standard Type  \\\n",
       "2   COc1ccc2[nH]c3c([N+](=O)[O-])ccc(Nc4ccc(CN5CCC...    Inhibition   \n",
       "3   COc1cc(Nc2ccc([N+](=O)[O-])c3[nH]c4ccc(O)cc4c(...    Inhibition   \n",
       "4   COc1ccc(Nc2ccc([N+](=O)[O-])c3[nH]c4ccc(O)cc4c...    Inhibition   \n",
       "8          Oc1ccc(-c2ccc(-c3ccc(O)c(O)c3)c(O)c2O)cc1O    Inhibition   \n",
       "14              COc1cc(-c2cc(=O)c3ccccc3o2)cc(OC)c1OC    Inhibition   \n",
       "\n",
       "   Standard Relation  Standard Value Standard Units     Comment  \n",
       "2                NaN             NaN              %      Active  \n",
       "3                NaN             NaN              %      Active  \n",
       "4                NaN             NaN              %  Not Active  \n",
       "8                NaN             NaN              %      Active  \n",
       "14               NaN             NaN              %      Active  "
      ]
     },
     "execution_count": 14,
     "metadata": {},
     "output_type": "execute_result"
    }
   ],
   "source": [
    "df.head()"
   ]
  },
  {
   "cell_type": "code",
   "execution_count": 15,
   "id": "94b371c1",
   "metadata": {},
   "outputs": [
    {
     "data": {
      "text/plain": [
       "(2067, 8)"
      ]
     },
     "execution_count": 15,
     "metadata": {},
     "output_type": "execute_result"
    }
   ],
   "source": [
    "df.shape"
   ]
  },
  {
   "cell_type": "code",
   "execution_count": 16,
   "id": "ad9ad5f4",
   "metadata": {},
   "outputs": [],
   "source": [
    "df.replace(to_replace=\"Not Active\",value=\"Inactive\",inplace=True)"
   ]
  },
  {
   "cell_type": "code",
   "execution_count": 18,
   "id": "7de30100",
   "metadata": {},
   "outputs": [],
   "source": [
    "df.reset_index(drop=True,inplace=True)"
   ]
  },
  {
   "cell_type": "code",
   "execution_count": 19,
   "id": "cfacc10b",
   "metadata": {},
   "outputs": [
    {
     "data": {
      "text/html": [
       "<div>\n",
       "<style scoped>\n",
       "    .dataframe tbody tr th:only-of-type {\n",
       "        vertical-align: middle;\n",
       "    }\n",
       "\n",
       "    .dataframe tbody tr th {\n",
       "        vertical-align: top;\n",
       "    }\n",
       "\n",
       "    .dataframe thead th {\n",
       "        text-align: right;\n",
       "    }\n",
       "</style>\n",
       "<table border=\"1\" class=\"dataframe\">\n",
       "  <thead>\n",
       "    <tr style=\"text-align: right;\">\n",
       "      <th></th>\n",
       "      <th>Molecule ChEMBL ID</th>\n",
       "      <th>#RO5 Violations</th>\n",
       "      <th>Smiles</th>\n",
       "      <th>Standard Type</th>\n",
       "      <th>Standard Relation</th>\n",
       "      <th>Standard Value</th>\n",
       "      <th>Standard Units</th>\n",
       "      <th>Comment</th>\n",
       "    </tr>\n",
       "  </thead>\n",
       "  <tbody>\n",
       "    <tr>\n",
       "      <th>0</th>\n",
       "      <td>CHEMBL4750575</td>\n",
       "      <td>1</td>\n",
       "      <td>COc1ccc2[nH]c3c([N+](=O)[O-])ccc(Nc4ccc(CN5CCC...</td>\n",
       "      <td>Inhibition</td>\n",
       "      <td>NaN</td>\n",
       "      <td>NaN</td>\n",
       "      <td>%</td>\n",
       "      <td>Active</td>\n",
       "    </tr>\n",
       "    <tr>\n",
       "      <th>1</th>\n",
       "      <td>CHEMBL4744119</td>\n",
       "      <td>0</td>\n",
       "      <td>COc1cc(Nc2ccc([N+](=O)[O-])c3[nH]c4ccc(O)cc4c(...</td>\n",
       "      <td>Inhibition</td>\n",
       "      <td>NaN</td>\n",
       "      <td>NaN</td>\n",
       "      <td>%</td>\n",
       "      <td>Active</td>\n",
       "    </tr>\n",
       "    <tr>\n",
       "      <th>2</th>\n",
       "      <td>CHEMBL4760194</td>\n",
       "      <td>0</td>\n",
       "      <td>COc1ccc(Nc2ccc([N+](=O)[O-])c3[nH]c4ccc(O)cc4c...</td>\n",
       "      <td>Inhibition</td>\n",
       "      <td>NaN</td>\n",
       "      <td>NaN</td>\n",
       "      <td>%</td>\n",
       "      <td>Inactive</td>\n",
       "    </tr>\n",
       "    <tr>\n",
       "      <th>3</th>\n",
       "      <td>CHEMBL3427565</td>\n",
       "      <td>1</td>\n",
       "      <td>Oc1ccc(-c2ccc(-c3ccc(O)c(O)c3)c(O)c2O)cc1O</td>\n",
       "      <td>Inhibition</td>\n",
       "      <td>NaN</td>\n",
       "      <td>NaN</td>\n",
       "      <td>%</td>\n",
       "      <td>Active</td>\n",
       "    </tr>\n",
       "    <tr>\n",
       "      <th>4</th>\n",
       "      <td>CHEMBL307856</td>\n",
       "      <td>0</td>\n",
       "      <td>COc1cc(-c2cc(=O)c3ccccc3o2)cc(OC)c1OC</td>\n",
       "      <td>Inhibition</td>\n",
       "      <td>NaN</td>\n",
       "      <td>NaN</td>\n",
       "      <td>%</td>\n",
       "      <td>Active</td>\n",
       "    </tr>\n",
       "  </tbody>\n",
       "</table>\n",
       "</div>"
      ],
      "text/plain": [
       "  Molecule ChEMBL ID #RO5 Violations  \\\n",
       "0      CHEMBL4750575               1   \n",
       "1      CHEMBL4744119               0   \n",
       "2      CHEMBL4760194               0   \n",
       "3      CHEMBL3427565               1   \n",
       "4       CHEMBL307856               0   \n",
       "\n",
       "                                              Smiles Standard Type  \\\n",
       "0  COc1ccc2[nH]c3c([N+](=O)[O-])ccc(Nc4ccc(CN5CCC...    Inhibition   \n",
       "1  COc1cc(Nc2ccc([N+](=O)[O-])c3[nH]c4ccc(O)cc4c(...    Inhibition   \n",
       "2  COc1ccc(Nc2ccc([N+](=O)[O-])c3[nH]c4ccc(O)cc4c...    Inhibition   \n",
       "3         Oc1ccc(-c2ccc(-c3ccc(O)c(O)c3)c(O)c2O)cc1O    Inhibition   \n",
       "4              COc1cc(-c2cc(=O)c3ccccc3o2)cc(OC)c1OC    Inhibition   \n",
       "\n",
       "  Standard Relation  Standard Value Standard Units   Comment  \n",
       "0               NaN             NaN              %    Active  \n",
       "1               NaN             NaN              %    Active  \n",
       "2               NaN             NaN              %  Inactive  \n",
       "3               NaN             NaN              %    Active  \n",
       "4               NaN             NaN              %    Active  "
      ]
     },
     "execution_count": 19,
     "metadata": {},
     "output_type": "execute_result"
    }
   ],
   "source": [
    "df.head()"
   ]
  },
  {
   "cell_type": "code",
   "execution_count": 20,
   "id": "da199b57",
   "metadata": {},
   "outputs": [
    {
     "data": {
      "text/plain": [
       "CHEMBL44657      110\n",
       "CHEMBL43          17\n",
       "CHEMBL1413199     12\n",
       "CHEMBL1096926     12\n",
       "CHEMBL1186087     10\n",
       "                ... \n",
       "CHEMBL3600601      1\n",
       "CHEMBL3991935      1\n",
       "CHEMBL1090090      1\n",
       "CHEMBL1950289      1\n",
       "CHEMBL510912       1\n",
       "Name: Molecule ChEMBL ID, Length: 1369, dtype: int64"
      ]
     },
     "execution_count": 20,
     "metadata": {},
     "output_type": "execute_result"
    }
   ],
   "source": [
    "df[\"Molecule ChEMBL ID\"].value_counts()"
   ]
  },
  {
   "cell_type": "code",
   "execution_count": 21,
   "id": "52871325",
   "metadata": {},
   "outputs": [],
   "source": [
    "df.drop_duplicates(keep=\"first\",inplace=True)"
   ]
  },
  {
   "cell_type": "code",
   "execution_count": 22,
   "id": "42d554cc",
   "metadata": {},
   "outputs": [
    {
     "data": {
      "text/plain": [
       "(1545, 8)"
      ]
     },
     "execution_count": 22,
     "metadata": {},
     "output_type": "execute_result"
    }
   ],
   "source": [
    "df.shape"
   ]
  },
  {
   "cell_type": "code",
   "execution_count": 23,
   "id": "00dbe62d",
   "metadata": {},
   "outputs": [
    {
     "data": {
      "text/html": [
       "<div>\n",
       "<style scoped>\n",
       "    .dataframe tbody tr th:only-of-type {\n",
       "        vertical-align: middle;\n",
       "    }\n",
       "\n",
       "    .dataframe tbody tr th {\n",
       "        vertical-align: top;\n",
       "    }\n",
       "\n",
       "    .dataframe thead th {\n",
       "        text-align: right;\n",
       "    }\n",
       "</style>\n",
       "<table border=\"1\" class=\"dataframe\">\n",
       "  <thead>\n",
       "    <tr style=\"text-align: right;\">\n",
       "      <th></th>\n",
       "      <th>Molecule ChEMBL ID</th>\n",
       "      <th>#RO5 Violations</th>\n",
       "      <th>Smiles</th>\n",
       "      <th>Standard Type</th>\n",
       "      <th>Standard Relation</th>\n",
       "      <th>Standard Value</th>\n",
       "      <th>Standard Units</th>\n",
       "      <th>Comment</th>\n",
       "    </tr>\n",
       "  </thead>\n",
       "  <tbody>\n",
       "    <tr>\n",
       "      <th>0</th>\n",
       "      <td>CHEMBL4750575</td>\n",
       "      <td>1</td>\n",
       "      <td>COc1ccc2[nH]c3c([N+](=O)[O-])ccc(Nc4ccc(CN5CCC...</td>\n",
       "      <td>Inhibition</td>\n",
       "      <td>NaN</td>\n",
       "      <td>NaN</td>\n",
       "      <td>%</td>\n",
       "      <td>Active</td>\n",
       "    </tr>\n",
       "    <tr>\n",
       "      <th>1</th>\n",
       "      <td>CHEMBL4744119</td>\n",
       "      <td>0</td>\n",
       "      <td>COc1cc(Nc2ccc([N+](=O)[O-])c3[nH]c4ccc(O)cc4c(...</td>\n",
       "      <td>Inhibition</td>\n",
       "      <td>NaN</td>\n",
       "      <td>NaN</td>\n",
       "      <td>%</td>\n",
       "      <td>Active</td>\n",
       "    </tr>\n",
       "    <tr>\n",
       "      <th>2</th>\n",
       "      <td>CHEMBL4760194</td>\n",
       "      <td>0</td>\n",
       "      <td>COc1ccc(Nc2ccc([N+](=O)[O-])c3[nH]c4ccc(O)cc4c...</td>\n",
       "      <td>Inhibition</td>\n",
       "      <td>NaN</td>\n",
       "      <td>NaN</td>\n",
       "      <td>%</td>\n",
       "      <td>Inactive</td>\n",
       "    </tr>\n",
       "    <tr>\n",
       "      <th>3</th>\n",
       "      <td>CHEMBL3427565</td>\n",
       "      <td>1</td>\n",
       "      <td>Oc1ccc(-c2ccc(-c3ccc(O)c(O)c3)c(O)c2O)cc1O</td>\n",
       "      <td>Inhibition</td>\n",
       "      <td>NaN</td>\n",
       "      <td>NaN</td>\n",
       "      <td>%</td>\n",
       "      <td>Active</td>\n",
       "    </tr>\n",
       "    <tr>\n",
       "      <th>4</th>\n",
       "      <td>CHEMBL307856</td>\n",
       "      <td>0</td>\n",
       "      <td>COc1cc(-c2cc(=O)c3ccccc3o2)cc(OC)c1OC</td>\n",
       "      <td>Inhibition</td>\n",
       "      <td>NaN</td>\n",
       "      <td>NaN</td>\n",
       "      <td>%</td>\n",
       "      <td>Active</td>\n",
       "    </tr>\n",
       "  </tbody>\n",
       "</table>\n",
       "</div>"
      ],
      "text/plain": [
       "  Molecule ChEMBL ID #RO5 Violations  \\\n",
       "0      CHEMBL4750575               1   \n",
       "1      CHEMBL4744119               0   \n",
       "2      CHEMBL4760194               0   \n",
       "3      CHEMBL3427565               1   \n",
       "4       CHEMBL307856               0   \n",
       "\n",
       "                                              Smiles Standard Type  \\\n",
       "0  COc1ccc2[nH]c3c([N+](=O)[O-])ccc(Nc4ccc(CN5CCC...    Inhibition   \n",
       "1  COc1cc(Nc2ccc([N+](=O)[O-])c3[nH]c4ccc(O)cc4c(...    Inhibition   \n",
       "2  COc1ccc(Nc2ccc([N+](=O)[O-])c3[nH]c4ccc(O)cc4c...    Inhibition   \n",
       "3         Oc1ccc(-c2ccc(-c3ccc(O)c(O)c3)c(O)c2O)cc1O    Inhibition   \n",
       "4              COc1cc(-c2cc(=O)c3ccccc3o2)cc(OC)c1OC    Inhibition   \n",
       "\n",
       "  Standard Relation  Standard Value Standard Units   Comment  \n",
       "0               NaN             NaN              %    Active  \n",
       "1               NaN             NaN              %    Active  \n",
       "2               NaN             NaN              %  Inactive  \n",
       "3               NaN             NaN              %    Active  \n",
       "4               NaN             NaN              %    Active  "
      ]
     },
     "execution_count": 23,
     "metadata": {},
     "output_type": "execute_result"
    }
   ],
   "source": [
    "df.head()"
   ]
  },
  {
   "cell_type": "code",
   "execution_count": 24,
   "id": "ef6e00cb",
   "metadata": {},
   "outputs": [],
   "source": [
    "df = df[[\"Molecule ChEMBL ID\",\"#RO5 Violations\",\"Smiles\",\"Comment\"]]"
   ]
  },
  {
   "cell_type": "code",
   "execution_count": 25,
   "id": "40bb1fc5",
   "metadata": {},
   "outputs": [
    {
     "data": {
      "text/html": [
       "<div>\n",
       "<style scoped>\n",
       "    .dataframe tbody tr th:only-of-type {\n",
       "        vertical-align: middle;\n",
       "    }\n",
       "\n",
       "    .dataframe tbody tr th {\n",
       "        vertical-align: top;\n",
       "    }\n",
       "\n",
       "    .dataframe thead th {\n",
       "        text-align: right;\n",
       "    }\n",
       "</style>\n",
       "<table border=\"1\" class=\"dataframe\">\n",
       "  <thead>\n",
       "    <tr style=\"text-align: right;\">\n",
       "      <th></th>\n",
       "      <th>Molecule ChEMBL ID</th>\n",
       "      <th>#RO5 Violations</th>\n",
       "      <th>Smiles</th>\n",
       "      <th>Comment</th>\n",
       "    </tr>\n",
       "  </thead>\n",
       "  <tbody>\n",
       "    <tr>\n",
       "      <th>0</th>\n",
       "      <td>CHEMBL4750575</td>\n",
       "      <td>1</td>\n",
       "      <td>COc1ccc2[nH]c3c([N+](=O)[O-])ccc(Nc4ccc(CN5CCC...</td>\n",
       "      <td>Active</td>\n",
       "    </tr>\n",
       "    <tr>\n",
       "      <th>1</th>\n",
       "      <td>CHEMBL4744119</td>\n",
       "      <td>0</td>\n",
       "      <td>COc1cc(Nc2ccc([N+](=O)[O-])c3[nH]c4ccc(O)cc4c(...</td>\n",
       "      <td>Active</td>\n",
       "    </tr>\n",
       "    <tr>\n",
       "      <th>2</th>\n",
       "      <td>CHEMBL4760194</td>\n",
       "      <td>0</td>\n",
       "      <td>COc1ccc(Nc2ccc([N+](=O)[O-])c3[nH]c4ccc(O)cc4c...</td>\n",
       "      <td>Inactive</td>\n",
       "    </tr>\n",
       "    <tr>\n",
       "      <th>3</th>\n",
       "      <td>CHEMBL3427565</td>\n",
       "      <td>1</td>\n",
       "      <td>Oc1ccc(-c2ccc(-c3ccc(O)c(O)c3)c(O)c2O)cc1O</td>\n",
       "      <td>Active</td>\n",
       "    </tr>\n",
       "    <tr>\n",
       "      <th>4</th>\n",
       "      <td>CHEMBL307856</td>\n",
       "      <td>0</td>\n",
       "      <td>COc1cc(-c2cc(=O)c3ccccc3o2)cc(OC)c1OC</td>\n",
       "      <td>Active</td>\n",
       "    </tr>\n",
       "  </tbody>\n",
       "</table>\n",
       "</div>"
      ],
      "text/plain": [
       "  Molecule ChEMBL ID #RO5 Violations  \\\n",
       "0      CHEMBL4750575               1   \n",
       "1      CHEMBL4744119               0   \n",
       "2      CHEMBL4760194               0   \n",
       "3      CHEMBL3427565               1   \n",
       "4       CHEMBL307856               0   \n",
       "\n",
       "                                              Smiles   Comment  \n",
       "0  COc1ccc2[nH]c3c([N+](=O)[O-])ccc(Nc4ccc(CN5CCC...    Active  \n",
       "1  COc1cc(Nc2ccc([N+](=O)[O-])c3[nH]c4ccc(O)cc4c(...    Active  \n",
       "2  COc1ccc(Nc2ccc([N+](=O)[O-])c3[nH]c4ccc(O)cc4c...  Inactive  \n",
       "3         Oc1ccc(-c2ccc(-c3ccc(O)c(O)c3)c(O)c2O)cc1O    Active  \n",
       "4              COc1cc(-c2cc(=O)c3ccccc3o2)cc(OC)c1OC    Active  "
      ]
     },
     "execution_count": 25,
     "metadata": {},
     "output_type": "execute_result"
    }
   ],
   "source": [
    "df.head()"
   ]
  },
  {
   "cell_type": "code",
   "execution_count": 26,
   "id": "ce46f0ec",
   "metadata": {},
   "outputs": [],
   "source": [
    "label = []\n",
    "for i in df[\"Comment\"]:\n",
    "    if i == \"Active\":\n",
    "        label.append(\"1\")\n",
    "    else:\n",
    "        label.append(\"0\")"
   ]
  },
  {
   "cell_type": "code",
   "execution_count": 27,
   "id": "7cb92a1b",
   "metadata": {},
   "outputs": [
    {
     "name": "stderr",
     "output_type": "stream",
     "text": [
      "/var/folders/ng/whnp3t611lq2k8dzf4hzhtnw0000gn/T/ipykernel_9351/919931213.py:1: SettingWithCopyWarning: \n",
      "A value is trying to be set on a copy of a slice from a DataFrame.\n",
      "Try using .loc[row_indexer,col_indexer] = value instead\n",
      "\n",
      "See the caveats in the documentation: https://pandas.pydata.org/pandas-docs/stable/user_guide/indexing.html#returning-a-view-versus-a-copy\n",
      "  df[\"label\"] = label\n"
     ]
    }
   ],
   "source": [
    "df[\"label\"] = label"
   ]
  },
  {
   "cell_type": "code",
   "execution_count": 28,
   "id": "11b3daf3",
   "metadata": {},
   "outputs": [
    {
     "data": {
      "text/html": [
       "<div>\n",
       "<style scoped>\n",
       "    .dataframe tbody tr th:only-of-type {\n",
       "        vertical-align: middle;\n",
       "    }\n",
       "\n",
       "    .dataframe tbody tr th {\n",
       "        vertical-align: top;\n",
       "    }\n",
       "\n",
       "    .dataframe thead th {\n",
       "        text-align: right;\n",
       "    }\n",
       "</style>\n",
       "<table border=\"1\" class=\"dataframe\">\n",
       "  <thead>\n",
       "    <tr style=\"text-align: right;\">\n",
       "      <th></th>\n",
       "      <th>Molecule ChEMBL ID</th>\n",
       "      <th>#RO5 Violations</th>\n",
       "      <th>Smiles</th>\n",
       "      <th>Comment</th>\n",
       "      <th>label</th>\n",
       "    </tr>\n",
       "  </thead>\n",
       "  <tbody>\n",
       "    <tr>\n",
       "      <th>0</th>\n",
       "      <td>CHEMBL4750575</td>\n",
       "      <td>1</td>\n",
       "      <td>COc1ccc2[nH]c3c([N+](=O)[O-])ccc(Nc4ccc(CN5CCC...</td>\n",
       "      <td>Active</td>\n",
       "      <td>1</td>\n",
       "    </tr>\n",
       "    <tr>\n",
       "      <th>1</th>\n",
       "      <td>CHEMBL4744119</td>\n",
       "      <td>0</td>\n",
       "      <td>COc1cc(Nc2ccc([N+](=O)[O-])c3[nH]c4ccc(O)cc4c(...</td>\n",
       "      <td>Active</td>\n",
       "      <td>1</td>\n",
       "    </tr>\n",
       "    <tr>\n",
       "      <th>2</th>\n",
       "      <td>CHEMBL4760194</td>\n",
       "      <td>0</td>\n",
       "      <td>COc1ccc(Nc2ccc([N+](=O)[O-])c3[nH]c4ccc(O)cc4c...</td>\n",
       "      <td>Inactive</td>\n",
       "      <td>0</td>\n",
       "    </tr>\n",
       "    <tr>\n",
       "      <th>3</th>\n",
       "      <td>CHEMBL3427565</td>\n",
       "      <td>1</td>\n",
       "      <td>Oc1ccc(-c2ccc(-c3ccc(O)c(O)c3)c(O)c2O)cc1O</td>\n",
       "      <td>Active</td>\n",
       "      <td>1</td>\n",
       "    </tr>\n",
       "    <tr>\n",
       "      <th>4</th>\n",
       "      <td>CHEMBL307856</td>\n",
       "      <td>0</td>\n",
       "      <td>COc1cc(-c2cc(=O)c3ccccc3o2)cc(OC)c1OC</td>\n",
       "      <td>Active</td>\n",
       "      <td>1</td>\n",
       "    </tr>\n",
       "  </tbody>\n",
       "</table>\n",
       "</div>"
      ],
      "text/plain": [
       "  Molecule ChEMBL ID #RO5 Violations  \\\n",
       "0      CHEMBL4750575               1   \n",
       "1      CHEMBL4744119               0   \n",
       "2      CHEMBL4760194               0   \n",
       "3      CHEMBL3427565               1   \n",
       "4       CHEMBL307856               0   \n",
       "\n",
       "                                              Smiles   Comment label  \n",
       "0  COc1ccc2[nH]c3c([N+](=O)[O-])ccc(Nc4ccc(CN5CCC...    Active     1  \n",
       "1  COc1cc(Nc2ccc([N+](=O)[O-])c3[nH]c4ccc(O)cc4c(...    Active     1  \n",
       "2  COc1ccc(Nc2ccc([N+](=O)[O-])c3[nH]c4ccc(O)cc4c...  Inactive     0  \n",
       "3         Oc1ccc(-c2ccc(-c3ccc(O)c(O)c3)c(O)c2O)cc1O    Active     1  \n",
       "4              COc1cc(-c2cc(=O)c3ccccc3o2)cc(OC)c1OC    Active     1  "
      ]
     },
     "execution_count": 28,
     "metadata": {},
     "output_type": "execute_result"
    }
   ],
   "source": [
    "df.head()"
   ]
  },
  {
   "cell_type": "code",
   "execution_count": 30,
   "id": "d96a6e28",
   "metadata": {},
   "outputs": [
    {
     "name": "stderr",
     "output_type": "stream",
     "text": [
      "/Users/sherifelsabbagh/opt/anaconda3/envs/my-rdkit-env/lib/python3.9/site-packages/pandas/core/frame.py:3990: SettingWithCopyWarning: \n",
      "A value is trying to be set on a copy of a slice from a DataFrame\n",
      "\n",
      "See the caveats in the documentation: https://pandas.pydata.org/pandas-docs/stable/user_guide/indexing.html#returning-a-view-versus-a-copy\n",
      "  return super().drop(\n"
     ]
    }
   ],
   "source": [
    "df.drop(\"Comment\",axis=1,inplace=True)"
   ]
  },
  {
   "cell_type": "code",
   "execution_count": 31,
   "id": "2d04cd01",
   "metadata": {},
   "outputs": [
    {
     "data": {
      "text/html": [
       "<div>\n",
       "<style scoped>\n",
       "    .dataframe tbody tr th:only-of-type {\n",
       "        vertical-align: middle;\n",
       "    }\n",
       "\n",
       "    .dataframe tbody tr th {\n",
       "        vertical-align: top;\n",
       "    }\n",
       "\n",
       "    .dataframe thead th {\n",
       "        text-align: right;\n",
       "    }\n",
       "</style>\n",
       "<table border=\"1\" class=\"dataframe\">\n",
       "  <thead>\n",
       "    <tr style=\"text-align: right;\">\n",
       "      <th></th>\n",
       "      <th>Molecule ChEMBL ID</th>\n",
       "      <th>#RO5 Violations</th>\n",
       "      <th>Smiles</th>\n",
       "      <th>label</th>\n",
       "    </tr>\n",
       "  </thead>\n",
       "  <tbody>\n",
       "    <tr>\n",
       "      <th>0</th>\n",
       "      <td>CHEMBL4750575</td>\n",
       "      <td>1</td>\n",
       "      <td>COc1ccc2[nH]c3c([N+](=O)[O-])ccc(Nc4ccc(CN5CCC...</td>\n",
       "      <td>1</td>\n",
       "    </tr>\n",
       "    <tr>\n",
       "      <th>1</th>\n",
       "      <td>CHEMBL4744119</td>\n",
       "      <td>0</td>\n",
       "      <td>COc1cc(Nc2ccc([N+](=O)[O-])c3[nH]c4ccc(O)cc4c(...</td>\n",
       "      <td>1</td>\n",
       "    </tr>\n",
       "    <tr>\n",
       "      <th>2</th>\n",
       "      <td>CHEMBL4760194</td>\n",
       "      <td>0</td>\n",
       "      <td>COc1ccc(Nc2ccc([N+](=O)[O-])c3[nH]c4ccc(O)cc4c...</td>\n",
       "      <td>0</td>\n",
       "    </tr>\n",
       "    <tr>\n",
       "      <th>3</th>\n",
       "      <td>CHEMBL3427565</td>\n",
       "      <td>1</td>\n",
       "      <td>Oc1ccc(-c2ccc(-c3ccc(O)c(O)c3)c(O)c2O)cc1O</td>\n",
       "      <td>1</td>\n",
       "    </tr>\n",
       "    <tr>\n",
       "      <th>4</th>\n",
       "      <td>CHEMBL307856</td>\n",
       "      <td>0</td>\n",
       "      <td>COc1cc(-c2cc(=O)c3ccccc3o2)cc(OC)c1OC</td>\n",
       "      <td>1</td>\n",
       "    </tr>\n",
       "  </tbody>\n",
       "</table>\n",
       "</div>"
      ],
      "text/plain": [
       "  Molecule ChEMBL ID #RO5 Violations  \\\n",
       "0      CHEMBL4750575               1   \n",
       "1      CHEMBL4744119               0   \n",
       "2      CHEMBL4760194               0   \n",
       "3      CHEMBL3427565               1   \n",
       "4       CHEMBL307856               0   \n",
       "\n",
       "                                              Smiles label  \n",
       "0  COc1ccc2[nH]c3c([N+](=O)[O-])ccc(Nc4ccc(CN5CCC...     1  \n",
       "1  COc1cc(Nc2ccc([N+](=O)[O-])c3[nH]c4ccc(O)cc4c(...     1  \n",
       "2  COc1ccc(Nc2ccc([N+](=O)[O-])c3[nH]c4ccc(O)cc4c...     0  \n",
       "3         Oc1ccc(-c2ccc(-c3ccc(O)c(O)c3)c(O)c2O)cc1O     1  \n",
       "4              COc1cc(-c2cc(=O)c3ccccc3o2)cc(OC)c1OC     1  "
      ]
     },
     "execution_count": 31,
     "metadata": {},
     "output_type": "execute_result"
    }
   ],
   "source": [
    "df.head()"
   ]
  },
  {
   "cell_type": "code",
   "execution_count": 32,
   "id": "50330e0e",
   "metadata": {},
   "outputs": [
    {
     "name": "stdout",
     "output_type": "stream",
     "text": [
      "<class 'pandas.core.frame.DataFrame'>\n",
      "Int64Index: 1545 entries, 0 to 2065\n",
      "Data columns (total 4 columns):\n",
      " #   Column              Non-Null Count  Dtype \n",
      "---  ------              --------------  ----- \n",
      " 0   Molecule ChEMBL ID  1545 non-null   object\n",
      " 1   #RO5 Violations     1545 non-null   object\n",
      " 2   Smiles              1544 non-null   object\n",
      " 3   label               1545 non-null   object\n",
      "dtypes: object(4)\n",
      "memory usage: 100.4+ KB\n"
     ]
    }
   ],
   "source": [
    "df.info()"
   ]
  },
  {
   "cell_type": "code",
   "execution_count": 33,
   "id": "479d5d50",
   "metadata": {},
   "outputs": [
    {
     "name": "stderr",
     "output_type": "stream",
     "text": [
      "/var/folders/ng/whnp3t611lq2k8dzf4hzhtnw0000gn/T/ipykernel_9351/4108383294.py:3: SettingWithCopyWarning: \n",
      "A value is trying to be set on a copy of a slice from a DataFrame\n",
      "\n",
      "See the caveats in the documentation: https://pandas.pydata.org/pandas-docs/stable/user_guide/indexing.html#returning-a-view-versus-a-copy\n",
      "  df.dropna(axis=0,inplace=True)\n"
     ]
    }
   ],
   "source": [
    "#drop NaN\n",
    "\n",
    "df.dropna(axis=0,inplace=True)"
   ]
  },
  {
   "cell_type": "code",
   "execution_count": 34,
   "id": "a669600d",
   "metadata": {},
   "outputs": [
    {
     "name": "stdout",
     "output_type": "stream",
     "text": [
      "<class 'pandas.core.frame.DataFrame'>\n",
      "Int64Index: 1544 entries, 0 to 2065\n",
      "Data columns (total 4 columns):\n",
      " #   Column              Non-Null Count  Dtype \n",
      "---  ------              --------------  ----- \n",
      " 0   Molecule ChEMBL ID  1544 non-null   object\n",
      " 1   #RO5 Violations     1544 non-null   object\n",
      " 2   Smiles              1544 non-null   object\n",
      " 3   label               1544 non-null   object\n",
      "dtypes: object(4)\n",
      "memory usage: 60.3+ KB\n"
     ]
    }
   ],
   "source": [
    "df.info()"
   ]
  },
  {
   "cell_type": "markdown",
   "id": "adabacc2",
   "metadata": {},
   "source": [
    "### **Standardizing Smiles**"
   ]
  },
  {
   "cell_type": "code",
   "execution_count": 39,
   "id": "856f0409",
   "metadata": {},
   "outputs": [],
   "source": [
    "from molvs import Standardizer"
   ]
  },
  {
   "cell_type": "code",
   "execution_count": 42,
   "id": "e3f4ba97",
   "metadata": {},
   "outputs": [],
   "source": [
    "s = Standardizer()\n",
    "remover = SaltRemover.SaltRemover()"
   ]
  },
  {
   "cell_type": "code",
   "execution_count": 44,
   "id": "52a749f3",
   "metadata": {},
   "outputs": [],
   "source": [
    "smiles =[]\n",
    "for smi in df[\"Smiles\"]:\n",
    "    if smi is not None:\n",
    "        mol = Chem.MolFromSmiles(smi)\n",
    "        mol = s.standardize(mol)\n",
    "        mol = remover(mol)\n",
    "        mol = Chem.MolToSmiles(mol)\n",
    "        smiles.append(mol)\n",
    "        "
   ]
  },
  {
   "cell_type": "code",
   "execution_count": 45,
   "id": "1ebe9dc7",
   "metadata": {},
   "outputs": [],
   "source": [
    "df[\"smiles\"] = smiles\n",
    "df.drop(\"Smiles\",axis=1,inplace=True)"
   ]
  },
  {
   "cell_type": "code",
   "execution_count": 46,
   "id": "9578f04b",
   "metadata": {},
   "outputs": [
    {
     "data": {
      "text/html": [
       "<div>\n",
       "<style scoped>\n",
       "    .dataframe tbody tr th:only-of-type {\n",
       "        vertical-align: middle;\n",
       "    }\n",
       "\n",
       "    .dataframe tbody tr th {\n",
       "        vertical-align: top;\n",
       "    }\n",
       "\n",
       "    .dataframe thead th {\n",
       "        text-align: right;\n",
       "    }\n",
       "</style>\n",
       "<table border=\"1\" class=\"dataframe\">\n",
       "  <thead>\n",
       "    <tr style=\"text-align: right;\">\n",
       "      <th></th>\n",
       "      <th>Molecule ChEMBL ID</th>\n",
       "      <th>#RO5 Violations</th>\n",
       "      <th>label</th>\n",
       "      <th>smiles</th>\n",
       "    </tr>\n",
       "  </thead>\n",
       "  <tbody>\n",
       "    <tr>\n",
       "      <th>0</th>\n",
       "      <td>CHEMBL4750575</td>\n",
       "      <td>1</td>\n",
       "      <td>1</td>\n",
       "      <td>COc1ccc2[nH]c3c([N+](=O)[O-])ccc(Nc4ccc(CN5CCC...</td>\n",
       "    </tr>\n",
       "    <tr>\n",
       "      <th>1</th>\n",
       "      <td>CHEMBL4744119</td>\n",
       "      <td>0</td>\n",
       "      <td>1</td>\n",
       "      <td>COc1cc(Nc2ccc([N+](=O)[O-])c3[nH]c4ccc(O)cc4c(...</td>\n",
       "    </tr>\n",
       "    <tr>\n",
       "      <th>2</th>\n",
       "      <td>CHEMBL4760194</td>\n",
       "      <td>0</td>\n",
       "      <td>0</td>\n",
       "      <td>COc1ccc(Nc2ccc([N+](=O)[O-])c3[nH]c4ccc(O)cc4c...</td>\n",
       "    </tr>\n",
       "    <tr>\n",
       "      <th>3</th>\n",
       "      <td>CHEMBL3427565</td>\n",
       "      <td>1</td>\n",
       "      <td>1</td>\n",
       "      <td>Oc1ccc(-c2ccc(-c3ccc(O)c(O)c3)c(O)c2O)cc1O</td>\n",
       "    </tr>\n",
       "    <tr>\n",
       "      <th>4</th>\n",
       "      <td>CHEMBL307856</td>\n",
       "      <td>0</td>\n",
       "      <td>1</td>\n",
       "      <td>COc1cc(-c2cc(=O)c3ccccc3o2)cc(OC)c1OC</td>\n",
       "    </tr>\n",
       "  </tbody>\n",
       "</table>\n",
       "</div>"
      ],
      "text/plain": [
       "  Molecule ChEMBL ID #RO5 Violations label  \\\n",
       "0      CHEMBL4750575               1     1   \n",
       "1      CHEMBL4744119               0     1   \n",
       "2      CHEMBL4760194               0     0   \n",
       "3      CHEMBL3427565               1     1   \n",
       "4       CHEMBL307856               0     1   \n",
       "\n",
       "                                              smiles  \n",
       "0  COc1ccc2[nH]c3c([N+](=O)[O-])ccc(Nc4ccc(CN5CCC...  \n",
       "1  COc1cc(Nc2ccc([N+](=O)[O-])c3[nH]c4ccc(O)cc4c(...  \n",
       "2  COc1ccc(Nc2ccc([N+](=O)[O-])c3[nH]c4ccc(O)cc4c...  \n",
       "3         Oc1ccc(-c2ccc(-c3ccc(O)c(O)c3)c(O)c2O)cc1O  \n",
       "4              COc1cc(-c2cc(=O)c3ccccc3o2)cc(OC)c1OC  "
      ]
     },
     "execution_count": 46,
     "metadata": {},
     "output_type": "execute_result"
    }
   ],
   "source": [
    "df.head()"
   ]
  },
  {
   "cell_type": "code",
   "execution_count": 47,
   "id": "d9b7b943",
   "metadata": {},
   "outputs": [],
   "source": [
    "df.to_csv(\"dataset_clean.csv\",index=None,header=True)"
   ]
  },
  {
   "cell_type": "code",
   "execution_count": null,
   "id": "c85720e5",
   "metadata": {},
   "outputs": [],
   "source": []
  }
 ],
 "metadata": {
  "kernelspec": {
   "display_name": "Python 3 (ipykernel)",
   "language": "python",
   "name": "python3"
  },
  "language_info": {
   "codemirror_mode": {
    "name": "ipython",
    "version": 3
   },
   "file_extension": ".py",
   "mimetype": "text/x-python",
   "name": "python",
   "nbconvert_exporter": "python",
   "pygments_lexer": "ipython3",
   "version": "3.9.6"
  }
 },
 "nbformat": 4,
 "nbformat_minor": 5
}
